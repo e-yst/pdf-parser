{
 "cells": [
  {
   "cell_type": "code",
   "execution_count": 319,
   "metadata": {},
   "outputs": [],
   "source": [
    "import json\n",
    "from pathlib import Path\n",
    "import re"
   ]
  },
  {
   "cell_type": "code",
   "execution_count": 320,
   "metadata": {},
   "outputs": [],
   "source": [
    "output_dir = Path(\"Microsoft.AZ-204.vDec-2023.by_.Tracy_.132q\")\n",
    "data_path = output_dir / \"Microsoft.AZ-204.vDec-2023.by_.Tracy_.132q.json\"\n",
    "\n",
    "with open(data_path, \"r\") as fin:\n",
    "    data = json.load(fin)"
   ]
  },
  {
   "cell_type": "code",
   "execution_count": 321,
   "metadata": {},
   "outputs": [],
   "source": [
    "data_out = []\n",
    "for ln in data:\n",
    "    ln_txt = ln[\"content\"]\n",
    "    if ln[\"type\"] == \"image\":\n",
    "        ln_txt = f\"== {ln_txt} ==\\n\"\n",
    "    data_out.append(ln_txt)"
   ]
  },
  {
   "cell_type": "code",
   "execution_count": 322,
   "metadata": {},
   "outputs": [],
   "source": [
    "case_start_ptn = re.compile(r\"^[0-9]{2} - .+\\n\")\n",
    "case_start_idx = []\n",
    "for idx, ln in enumerate(data_out):\n",
    "    if re.match(case_start_ptn, ln):\n",
    "        case_start_idx.append(idx)\n",
    "\n",
    "\n",
    "case_start_idx.append(len(data_out))"
   ]
  },
  {
   "cell_type": "code",
   "execution_count": 323,
   "metadata": {},
   "outputs": [
    {
     "data": {
      "text/plain": [
       "[4, 21, 94, 102, 126, 141, 164, 181, 223, 244, 441, 453, 471, 795]"
      ]
     },
     "execution_count": 323,
     "metadata": {},
     "output_type": "execute_result"
    }
   ],
   "source": [
    "case_start_idx"
   ]
  },
  {
   "cell_type": "code",
   "execution_count": 324,
   "metadata": {},
   "outputs": [
    {
     "name": "stdout",
     "output_type": "stream",
     "text": [
      "[4, 21]\n",
      "[21, 94]\n",
      "[94, 102]\n",
      "[102, 126]\n",
      "[126, 141]\n",
      "[141, 164]\n",
      "[164, 181]\n",
      "[181, 223]\n",
      "[223, 244]\n",
      "[244, 441]\n",
      "[441, 453]\n",
      "[453, 471]\n",
      "[471, 795]\n",
      "[795]\n"
     ]
    }
   ],
   "source": [
    "for n in range(len(case_start_idx)):\n",
    "    print(case_start_idx[n : n + 2])"
   ]
  },
  {
   "cell_type": "code",
   "execution_count": 325,
   "metadata": {},
   "outputs": [
    {
     "data": {
      "text/plain": [
       "[[4, 21],\n",
       " [21, 94],\n",
       " [94, 102],\n",
       " [102, 126],\n",
       " [126, 141],\n",
       " [141, 164],\n",
       " [164, 181],\n",
       " [181, 223],\n",
       " [223, 244],\n",
       " [244, 441],\n",
       " [441, 453],\n",
       " [453, 471],\n",
       " [471, 795]]"
      ]
     },
     "execution_count": 325,
     "metadata": {},
     "output_type": "execute_result"
    }
   ],
   "source": [
    "case_idx_ranges = [\n",
    "    case_start_idx[n : n + 2]\n",
    "    for n in range(len(case_start_idx))\n",
    "    if len(case_start_idx) >= n + 2\n",
    "]\n",
    "case_idx_ranges"
   ]
  },
  {
   "cell_type": "code",
   "execution_count": 326,
   "metadata": {},
   "outputs": [],
   "source": [
    "cases_dir = output_dir / \"cases\"\n",
    "cases_dir.mkdir(parents=True, exist_ok=True)\n",
    "for idx, (start, end) in enumerate(case_idx_ranges, start=1):\n",
    "    with open(cases_dir / f\"{idx}_{start}-{end}.txt\", \"w\") as fout:\n",
    "        fout.writelines(data_out[start:end])"
   ]
  },
  {
   "cell_type": "code",
   "execution_count": 327,
   "metadata": {},
   "outputs": [],
   "source": [
    "def extract_content(case_txt_list: str) -> dict[str, list[str | dict[str, list[str]]]]:\n",
    "    question_ptn = re.compile(r\"^question \\d{1,2}\\n\", flags=re.IGNORECASE)\n",
    "    answer_ptn = re.compile(r\"^(answer area|correct answer)\", flags=re.IGNORECASE)\n",
    "\n",
    "    title_ele = case_txt_list[0].split(\"\\n\")\n",
    "    content = {\"d\": [], \"qa\": [], \"t\": title_ele.pop(0)}\n",
    "\n",
    "    case_txt_list[0] = \"\\n\".join(title_ele)\n",
    "    q_counter = 0\n",
    "    flag = \"d\"\n",
    "    for ln in case_txt_list:\n",
    "        if re.match(question_ptn, ln):\n",
    "            if flag == \"a\":\n",
    "                q_counter += 1\n",
    "            flag = \"q\"\n",
    "        if re.match(answer_ptn, ln):\n",
    "            flag = \"a\"\n",
    "\n",
    "        if flag in \"qa\":\n",
    "            if len(content[\"qa\"]) > q_counter:\n",
    "                content[\"qa\"][q_counter][flag].append(ln)\n",
    "            else:\n",
    "                data = {f: [] for f in \"qa\"}\n",
    "                data[flag] = [ln]\n",
    "                content[\"qa\"].append(data)\n",
    "        else:\n",
    "            content[flag].append(ln)\n",
    "    return content"
   ]
  },
  {
   "cell_type": "code",
   "execution_count": 328,
   "metadata": {},
   "outputs": [],
   "source": [
    "cases_data = {}\n",
    "for idx, (start, end) in enumerate(case_idx_ranges, start=1):\n",
    "    case_content = extract_content(data_out[start:end])\n",
    "    cases_data[f\"{idx}_{start}-{end}\"] = case_content"
   ]
  },
  {
   "cell_type": "code",
   "execution_count": 329,
   "metadata": {},
   "outputs": [],
   "source": [
    "def extract_question(question_list: list[str]) -> dict[str, str | list[str]]:\n",
    "    options_idx = 0\n",
    "    is_mc = False\n",
    "    for idx, item in enumerate(question_list):\n",
    "        if \"hot area:\" in item.lower() or \"select and place:\" in item.lower():\n",
    "            options_idx = idx + 1\n",
    "            break\n",
    "        elif \"A.\" in item:\n",
    "            options_idx = idx\n",
    "            is_mc = True\n",
    "            break\n",
    "    question_str = \"\\n\".join(question_list[: options_idx if is_mc else options_idx - 1])\n",
    "    options_str = \"\\n\".join(question_list[options_idx:])\n",
    "    return {\n",
    "        \"question\": question_str.strip(),\n",
    "        \"options\": options_str.strip().split(\"\\n\")\n",
    "        if not is_mc\n",
    "        else [\n",
    "            opt[0].strip() for opt in re.findall(r\"([A-Z]\\..+(\\n{0,2}?)(?![A-Z]\\.).+)\", options_str)\n",
    "        ],\n",
    "    }\n",
    "\n",
    "\n",
    "def clean_explanation_txt(txt: str) -> str:\n",
    "    txt = re.sub(r\"== (?P<answer>.+) ==\", \"\", txt)\n",
    "    while \"\\n\\n\\n\" in txt:\n",
    "        txt = txt.replace(\"\\n\\n\\n\", \"\\n\\n\")\n",
    "    return txt\n",
    "\n",
    "\n",
    "def extract_answer(answer_list: list[str]):\n",
    "    answer_ptn = re.compile(r\"Correct Answer: (?P<answer>.+)\")\n",
    "    answer_str = \"\\n\".join(answer_list)\n",
    "    match = re.match(answer_ptn, answer_str)\n",
    "    if match:\n",
    "        answer = match.group(\"answer\").replace(\" \", \"\").split(\",\")\n",
    "    else:\n",
    "        answer = re.findall(r\"== (?P<answer>.+) ==\", answer_str)\n",
    "    return {\"answer\": answer, \"explanation\": clean_explanation_txt(answer_str)}\n",
    "\n",
    "\n",
    "def parse_qa(qa_item: dict[str, list[str]]) -> dict[str, str | list[str]]:\n",
    "    question_with_options = extract_question(qa_item[\"q\"])\n",
    "    answer = extract_answer(qa_item[\"a\"])\n",
    "    return question_with_options | answer"
   ]
  },
  {
   "cell_type": "code",
   "execution_count": 330,
   "metadata": {},
   "outputs": [],
   "source": [
    "parsed_case_data = {}\n",
    "\n",
    "for k, v in cases_data.items():\n",
    "    parsed_case_data[k] = {\"description\": \"\\n\".join(v[\"d\"]), \"questions\": []}\n",
    "    for qa_item in v[\"qa\"]:\n",
    "        parsed_case_data[k][\"questions\"].append(parse_qa(qa_item))"
   ]
  },
  {
   "cell_type": "code",
   "execution_count": 331,
   "metadata": {},
   "outputs": [],
   "source": [
    "from pprint import pprint\n",
    "\n",
    "for k in parsed_case_data:\n",
    "    with open(cases_dir / f\"{k}_qa.json\", \"w\") as fout:\n",
    "        json.dump(parsed_case_data[k], fout, indent=2, ensure_ascii=False)"
   ]
  },
  {
   "cell_type": "code",
   "execution_count": null,
   "metadata": {},
   "outputs": [],
   "source": []
  }
 ],
 "metadata": {
  "kernelspec": {
   "display_name": "Python 3",
   "language": "python",
   "name": "python3"
  },
  "language_info": {
   "codemirror_mode": {
    "name": "ipython",
    "version": 3
   },
   "file_extension": ".py",
   "mimetype": "text/x-python",
   "name": "python",
   "nbconvert_exporter": "python",
   "pygments_lexer": "ipython3",
   "version": "3.12.1"
  }
 },
 "nbformat": 4,
 "nbformat_minor": 2
}
